{
    "cells": [
        {
            "cell_type": "code",
            "execution_count": null,
            "source": [
                "# -*- coding: utf-8 -*-\r\n",
                "# UTF-8 encoding when using korean\r\n",
                "\r\n",
                "import sys\r\n",
                "input = sys.stdin.readline\r\n",
                "from collections import deque\r\n",
                "import copy\r\n",
                "import itertools\r\n",
                "\r\n",
                "\r\n",
  